{
  "cells": [
    {
      "cell_type": "markdown",
      "metadata": {},
      "source": [
        "## ECE495 Lab2: Krichmar Path Planning using Nengo"
      ]
    },
    {
      "cell_type": "markdown",
      "metadata": {},
      "source": [
        "This Lab uses Nengo to find the optimal path of a square or rectangular map using Krichmar's spike-wave propagation algorithm. The objectives of this lab are to:\n",
        "- Implement Krichmar's spike-wave propagation algorithm using Nengo neurons\n",
        "- Ensure the spike wave works for any rectangular or square map\n",
        "- Utilize an \"off-chip\" AER to compute the fastest route to get from any starting point (location) to any ending point (location)\n",
        "\n",
        "_Note: This is your assignment description and a proposed outline by which you can complete your assignment_\n",
        "- The assignment is worth 60 points\n",
        "- You may hardcode your connections for each of the three required maps _for a max score of 50/60_\n",
        "- _**Be sure to print your final path for each map or save it somewhere in your repository so that I can check your work!**_"
      ]
    },
    {
      "cell_type": "markdown",
      "metadata": {},
      "source": [
        "#### Set up\n",
        "\n",
        "**Ensure you are using your [495 Virtual Environment](https://github.com/kaitlin-fair/495venv_setup) before you begin!**  \n",
        "    \n",
        "Import Nengo and other supporting libraries into your program to get started:"
      ]
    },
    {
      "cell_type": "code",
      "execution_count": null,
      "metadata": {},
      "outputs": [],
      "source": []
    },
    {
      "cell_type": "markdown",
      "metadata": {
        "id": "SRNvPHASH60r"
      },
      "source": [
        "### Input Maps\n",
        "\n",
        "Check that your spike-wave propagation and AER work for these three maps:\n",
        " \n",
        "(a) The following $3 \\times 3$ array with start location 0 (top left) and end location 8 (bottom right). \n",
        "$$\\begin{bmatrix} 1 & 2 & 1 \\\\\n",
        "                  1 & 3 & 5 \\\\\n",
        "                  7 & 1 & 1\n",
        "                      \\end{bmatrix}$$\n",
        "\n",
        "(b) The following $3 \\times 4$ array with start location 0 and end location 11.\n",
        "$$\\begin{bmatrix} 1 & 2 & 1 & 6 \\\\\n",
        "                  1 & 3 & 5 & 3 \\\\\n",
        "                  7 & 1 & 4 & 1\n",
        "                      \\end{bmatrix}$$\n",
        "\n",
        "(c) The following $5 \\times 5$ array with start location 10 and end location 4.\n",
        "$$\\begin{bmatrix} 1 & 3 & 7 & 2 & 1\\\\\n",
        "                  3 & 1 & 5 & 3 & 1\\\\\n",
        "                  3 & 2 & 6 & 1 & 2\\\\\n",
        "                  3 & 1 & 5 & 6 & 1\\\\\n",
        "                  2 & 2 & 1 & 1 & 2\n",
        "                      \\end{bmatrix}$$\n"
      ]
    },
    {
      "cell_type": "code",
      "execution_count": null,
      "metadata": {},
      "outputs": [],
      "source": []
    },
    {
      "cell_type": "markdown",
      "metadata": {
        "id": "GVEl2ZdARMhN"
      },
      "source": [
        "### Set up and run your Nengo model to implement the spike-wave propagation\n",
        "_Be sure to generalize or take the 10 points deduction!_\n",
        "\n",
        "Hints: \n",
        "- Use a piecewise function to kick off the spike wave, then turn off your input and let the wave do the rest. Be sure this input connects to your _start location._\n",
        "- Use a Nengo Ensemble for each map location (you can use an Ensemble array, a multidimensional ensemble, or a list of ensembles). Every map location has anywhere from 3 (corner locations) to 8 (inside locations) neighbors to which it can send a spike. Be careful with your connections! I personally said each of them had 8 possible locations and then deleted any locations that were \"off-map\", but do what makes the most sense to you. \n",
        "- Create a delay node to emulate an axonal delay from Krichmar's algorithm. Each map location should have a delay equal to the weight (difficulty of traversal) of the location.\n",
        "- Implementing inhibition is _difficult_! Recall from Krichmar's algorithm that once a map location fires, it should not fire again. If you can't get the inhibition to work, instead try to add another function to your delay node that turns off a map location once it's sent the spike wave forward"
      ]
    },
    {
      "cell_type": "code",
      "execution_count": null,
      "metadata": {},
      "outputs": [],
      "source": []
    },
    {
      "cell_type": "markdown",
      "metadata": {},
      "source": [
        "### Create AER off-neuron\n",
        "_Pay attention to how Krichmar says he uses the AER to determine the path_  \n",
        "\n",
        "Hints:\n",
        "- The AER contains a location and a time of first spike.\n",
        "- Start at the end location and work backward!\n",
        "- I found that by looking at the first spike times of all possible neighboring map locations and choosing the smallest time allowed me to work from end node to start node for my optimal path."
      ]
    },
    {
      "cell_type": "code",
      "execution_count": null,
      "metadata": {},
      "outputs": [],
      "source": []
    },
    {
      "cell_type": "markdown",
      "metadata": {
        "id": "IU76Mt_cfa7q"
      },
      "source": [
        "### Print your optimal path\n",
        "_Be sure to show your results_  \n",
        "\n",
        "Some options:\n",
        "- You can print your map locations as x- and y- coordinates (examples: start_loc = [0,0] or [2,0]) or flattened locations (examples: start_loc = 0 or 10)\n",
        "- You can create a picture of a map (like in Krichmar's paper) where you draw out your final path"
      ]
    },
    {
      "cell_type": "code",
      "execution_count": null,
      "metadata": {},
      "outputs": [],
      "source": []
    }
  ],
  "metadata": {
    "colab": {
      "provenance": []
    },
    "kernelspec": {
      "display_name": "Python 3",
      "name": "python3"
    },
    "language_info": {
      "codemirror_mode": {
        "name": "ipython",
        "version": 3
      },
      "file_extension": ".py",
      "mimetype": "text/x-python",
      "name": "python",
      "nbconvert_exporter": "python",
      "pygments_lexer": "ipython3",
      "version": "3.10.13"
    }
  },
  "nbformat": 4,
  "nbformat_minor": 0
}
