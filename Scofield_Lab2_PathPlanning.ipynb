{
 "cells": [
  {
   "cell_type": "markdown",
   "metadata": {},
   "source": [
    "## ECE495 Lab2: Krichmar Path Planning using Nengo"
   ]
  },
  {
   "cell_type": "markdown",
   "metadata": {},
   "source": [
    "This Lab uses Nengo to find the optimal path of a square or rectangular map using Krichmar's spike-wave propagation algorithm. The objectives of this lab are to:\n",
    "- Implement Krichmar's spike-wave propagation algorithm using Nengo neurons\n",
    "- Ensure the spike wave works for any rectangular or square map\n",
    "- Utilize an \"off-chip\" AER to compute the fastest route to get from any starting point (location) to any ending point (location)\n",
    "\n",
    "_Note: This is your assignment description and a proposed outline by which you can complete your assignment_\n",
    "- The assignment is worth 60 points\n",
    "- You may hardcode your connections for each of the three required maps _for a max score of 50/60_\n",
    "- _**Be sure to print your final path for each map or save it somewhere in your repository so that I can check your work!**_"
   ]
  },
  {
   "cell_type": "markdown",
   "metadata": {},
   "source": [
    "#### Set up\n",
    "\n",
    "**Ensure you are using your [495 Virtual Environment](https://github.com/kaitlin-fair/495venv_setup) before you begin!**  \n",
    "    \n",
    "Import Nengo and other supporting libraries into your program to get started:"
   ]
  },
  {
   "cell_type": "code",
   "execution_count": 175,
   "metadata": {},
   "outputs": [],
   "source": [
    "import matplotlib.pyplot as plt\n",
    "import numpy as np\n",
    "\n",
    "import nengo\n",
    "\n",
    "import array as arr\n",
    "from nengo.dists import Uniform\n",
    "from nengo.utils.matplotlib import rasterplot\n",
    "from nengo.processes import Piecewise"
   ]
  },
  {
   "cell_type": "markdown",
   "metadata": {
    "id": "SRNvPHASH60r"
   },
   "source": [
    "### Input Maps\n",
    "\n",
    "Check that your spike-wave propagation and AER work for these three maps:\n",
    " \n",
    "(a) The following $3 \\times 3$ array with start location 0 (top left) and end location 8 (bottom right). \n",
    "$$\\begin{bmatrix} 1 & 2 & 1 \\\\\n",
    "                  1 & 3 & 5 \\\\\n",
    "                  7 & 1 & 1\n",
    "                      \\end{bmatrix}$$\n",
    "\n",
    "(b) The following $3 \\times 4$ array with start location 0 and end location 11.\n",
    "$$\\begin{bmatrix} 1 & 2 & 1 & 6 \\\\\n",
    "                  1 & 3 & 5 & 3 \\\\\n",
    "                  7 & 1 & 4 & 1\n",
    "                      \\end{bmatrix}$$\n",
    "\n",
    "(c) The following $5 \\times 5$ array with start location 10 and end location 4.\n",
    "$$\\begin{bmatrix} 1 & 3 & 7 & 2 & 1\\\\\n",
    "                  3 & 1 & 5 & 3 & 1\\\\\n",
    "                  3 & 2 & 6 & 1 & 2\\\\\n",
    "                  3 & 1 & 5 & 6 & 1\\\\\n",
    "                  2 & 2 & 1 & 1 & 2\n",
    "                      \\end{bmatrix}$$\n"
   ]
  },
  {
   "cell_type": "code",
   "execution_count": 176,
   "metadata": {},
   "outputs": [],
   "source": [
    "# three maps that are given for this scenario\n",
    "map1 = np.array([[1, 2, 1], [1, 3, 5], [7, 1, 1]])\n",
    "map2 = np.array([[1, 2, 1, 6], [1, 3, 5, 3], [7, 1, 4, 1]])\n",
    "map3 = np.array(\n",
    "    [\n",
    "        [1, 3, 7, 2, 1],\n",
    "        [3, 1, 5, 3, 1],\n",
    "        [3, 2, 6, 1, 2],\n",
    "        [3, 1, 5, 6, 1],\n",
    "        [2, 2, 1, 1, 2],\n",
    "    ]\n",
    ")\n",
    "desired_map = map1\n",
    "map_size = desired_map.size\n",
    "# gets num rows and num cols\n",
    "num_rows, num_cols = desired_map.shape\n",
    "\n",
    "\n",
    "# class that has info on initial location and the neighbors\n",
    "class Block:\n",
    "    def __init__(self, initial_loc):\n",
    "        self.initial_loc = initial_loc\n",
    "        self.neighbors = []\n",
    "\n",
    "\n",
    "neuron_info = []\n",
    "for i in range(num_rows):\n",
    "    rows = []\n",
    "    for j in range(num_cols):\n",
    "        rows.append(Block((i, j)))\n",
    "    neuron_info.append(rows)\n",
    "\n",
    "for i in range(num_rows):\n",
    "    for j in range(num_cols):\n",
    "        # checks if is a corner, then edge, then knows it's in the middle and adds everything around it\n",
    "        connections = []\n",
    "        # top L corner\n",
    "        if (i == 0) and (j == 0):\n",
    "            connections.append([i + 1, j])\n",
    "            connections.append([i, j + 1])\n",
    "            connections.append([i + 1, j + 1])\n",
    "        # top R corner\n",
    "        elif (i == 0) and (j + 1 == num_cols):\n",
    "            connections.append([i, j - 1])\n",
    "            connections.append([i + 1, j])\n",
    "            connections.append([i + 1, j - 1])\n",
    "\n",
    "        # bottom L corner\n",
    "        elif (i + 1 == num_rows) and (j == 0):\n",
    "            connections.append([i - 1, j])\n",
    "            connections.append([i, j + 1])\n",
    "            connections.append([i - 1, j + 1])\n",
    "        # bottom R corner\n",
    "        elif (i + 1 == num_rows) and (j + 1 == num_cols):\n",
    "            connections.append([i - 1, j])\n",
    "            connections.append([i, j - 1])\n",
    "            connections.append([i - 1, j - 1])\n",
    "        # top edge\n",
    "        elif i == 0:\n",
    "            connections.append([i, j - 1])\n",
    "            connections.append([i + 1, j])\n",
    "            connections.append([i, j + 1])\n",
    "            connections.append([i + 1, j - 1])\n",
    "            connections.append([i + 1, j + 1])\n",
    "        # bottom edge\n",
    "        elif i + 1 == num_rows:\n",
    "            connections.append([i - 1, j])\n",
    "            connections.append([i, j - 1])\n",
    "            connections.append([i, j + 1])\n",
    "            connections.append([i - 1, j + 1])\n",
    "            connections.append([i - 1, j - 1])\n",
    "        # left edge\n",
    "        elif j == 0:\n",
    "            connections.append([i - 1, j])\n",
    "            connections.append([i + 1, j])\n",
    "            connections.append([i, j + 1])\n",
    "            connections.append([i - 1, j + 1])\n",
    "            connections.append([i + 1, j + 1])\n",
    "        # right edge\n",
    "        elif j + 1 == num_cols:\n",
    "            connections.append([i - 1, j])\n",
    "            connections.append([i, j - 1])\n",
    "            connections.append([i + 1, j])\n",
    "            connections.append([i + 1, j - 1])\n",
    "            connections.append([i - 1, j - 1])\n",
    "        # is somewhere in the middle and has all 8 neighbors\n",
    "        else:\n",
    "            connections.append([i - 1, j])\n",
    "            connections.append([i, j - 1])\n",
    "            connections.append([i + 1, j])\n",
    "            connections.append([i, j + 1])\n",
    "            connections.append([i - 1, j + 1])\n",
    "            connections.append([i + 1, j - 1])\n",
    "            connections.append([i + 1, j + 1])\n",
    "            connections.append([i - 1, j - 1])\n",
    "        neuron_info[i][j].neighbors = connections\n",
    "\n",
    "\n",
    "# print(neuron_info[0][0].neighbors)\n",
    "# for i in range(num_rows):\n",
    "#     for j in range(num_cols):\n",
    "#         print(neuron_info[i][j].initial_loc)\n",
    "#         print(neuron_info[i][j].neighbors)"
   ]
  },
  {
   "cell_type": "markdown",
   "metadata": {
    "id": "GVEl2ZdARMhN"
   },
   "source": [
    "### Set up and run your Nengo model to implement the spike-wave propagation\n",
    "_Be sure to generalize or take the 10 points deduction!_\n",
    "\n",
    "Hints: \n",
    "- Use a piecewise function to kick off the spike wave, then turn off your input and let the wave do the rest. Be sure this input connects to your _start location._\n",
    "- Use a Nengo Ensemble for each map location (you can use an Ensemble array, a multidimensional ensemble, or a list of ensembles). Every map location has anywhere from 3 (corner locations) to 8 (inside locations) neighbors to which it can send a spike. Be careful with your connections! I personally said each of them had 8 possible locations and then deleted any locations that were \"off-map\", but do what makes the most sense to you. DONE!!!\n",
    "- Create a delay node to emulate an axonal delay from Krichmar's algorithm. Each map location should have a delay equal to the weight (difficulty of traversal) of the location.\n",
    "- Implementing inhibition is _difficult_! Recall from Krichmar's algorithm that once a map location fires, it should not fire again. If you can't get the inhibition to work, instead try to add another function to your delay node that turns off a map location once it's sent the spike wave forward"
   ]
  },
  {
   "cell_type": "code",
   "execution_count": 177,
   "metadata": {},
   "outputs": [
    {
     "data": {
      "application/vdom.v1+json": {
       "attributes": {},
       "tagName": "div"
      },
      "text/html": [
       "\n",
       "                <script>\n",
       "                    if (Jupyter.version.split(\".\")[0] < 5) {\n",
       "                        var pb = document.getElementById(\"79f9c920-ec46-4ba2-b0f2-622dc7b70d2a\");\n",
       "                        var text = document.createTextNode(\n",
       "                            \"HMTL progress bar requires Jupyter Notebook >= \" +\n",
       "                            \"5.0 or Jupyter Lab. Alternatively, you can use \" +\n",
       "                            \"TerminalProgressBar().\");\n",
       "                        pb.parentNode.insertBefore(text, pb);\n",
       "                    }\n",
       "                </script>\n",
       "                <div id=\"79f9c920-ec46-4ba2-b0f2-622dc7b70d2a\" style=\"\n",
       "                    width: 100%;\n",
       "                    border: 1px solid #cfcfcf;\n",
       "                    border-radius: 4px;\n",
       "                    text-align: center;\n",
       "                    position: relative;\">\n",
       "                  <div class=\"pb-text\" style=\"\n",
       "                      position: absolute;\n",
       "                      width: 100%;\">\n",
       "                    0%\n",
       "                  </div>\n",
       "                  <div class=\"pb-fill\" style=\"\n",
       "                      background-color: #bdd2e6;\n",
       "                      width: 0%;\">\n",
       "                    <style type=\"text/css\" scoped=\"scoped\">\n",
       "                        @keyframes pb-fill-anim {\n",
       "                            0% { background-position: 0 0; }\n",
       "                            100% { background-position: 100px 0; }\n",
       "                        }\n",
       "                    </style>\n",
       "                    &nbsp;\n",
       "                  </div>\n",
       "                </div>"
      ],
      "text/plain": [
       "HtmlProgressBar cannot be displayed. Please use the TerminalProgressBar. It can be enabled with `nengo.rc['progress']['progress_bar'] = 'nengo.utils.progress.TerminalProgressBar'`."
      ]
     },
     "metadata": {},
     "output_type": "display_data"
    },
    {
     "data": {
      "application/vdom.v1+json": {
       "attributes": {
        "id": "0caf4315-de75-4db7-9654-420dbe83189f",
        "style": {
         "border": "1px solid #cfcfcf",
         "borderRadius": "4px",
         "boxSizing": "border-box",
         "position": "relative",
         "textAlign": "center",
         "width": "100%"
        }
       },
       "children": [
        {
         "attributes": {
          "class": "pb-text",
          "style": {
           "position": "absolute",
           "width": "100%"
          }
         },
         "children": [
          "Build finished in 0:00:01."
         ],
         "tagName": "div"
        },
        {
         "attributes": {
          "class": "pb-fill",
          "style": {
           "animation": "none",
           "backgroundColor": "#bdd2e6",
           "backgroundImage": "none",
           "backgroundSize": "100px 100%",
           "width": "100%"
          }
         },
         "children": [
          {
           "attributes": {
            "scoped": "scoped",
            "type": "text/css"
           },
           "children": [
            "\n                        @keyframes pb-fill-anim {\n                            0% { background-position: 0 0; }\n                            100% { background-position: 100px 0; }\n                        }}"
           ],
           "tagName": "style"
          },
          " "
         ],
         "tagName": "div"
        }
       ],
       "tagName": "div"
      },
      "text/html": [
       "<script>\n",
       "              (function () {\n",
       "                  var root = document.getElementById('79f9c920-ec46-4ba2-b0f2-622dc7b70d2a');\n",
       "                  var text = root.getElementsByClassName('pb-text')[0];\n",
       "                  var fill = root.getElementsByClassName('pb-fill')[0];\n",
       "\n",
       "                  text.innerHTML = 'Build finished in 0:00:01.';\n",
       "                  \n",
       "            fill.style.width = '100%';\n",
       "            fill.style.animation = 'pb-fill-anim 2s linear infinite';\n",
       "            fill.style.backgroundSize = '100px 100%';\n",
       "            fill.style.backgroundImage = 'repeating-linear-gradient(' +\n",
       "                '90deg, #bdd2e6, #edf2f8 40%, #bdd2e6 80%, #bdd2e6)';\n",
       "        \n",
       "                  \n",
       "                fill.style.animation = 'none';\n",
       "                fill.style.backgroundImage = 'none';\n",
       "            \n",
       "              })();\n",
       "        </script>"
      ]
     },
     "metadata": {},
     "output_type": "display_data"
    },
    {
     "data": {
      "application/vdom.v1+json": {
       "attributes": {},
       "tagName": "div"
      },
      "text/html": [
       "\n",
       "                <script>\n",
       "                    if (Jupyter.version.split(\".\")[0] < 5) {\n",
       "                        var pb = document.getElementById(\"82c58834-1890-4850-8333-3fe0da599368\");\n",
       "                        var text = document.createTextNode(\n",
       "                            \"HMTL progress bar requires Jupyter Notebook >= \" +\n",
       "                            \"5.0 or Jupyter Lab. Alternatively, you can use \" +\n",
       "                            \"TerminalProgressBar().\");\n",
       "                        pb.parentNode.insertBefore(text, pb);\n",
       "                    }\n",
       "                </script>\n",
       "                <div id=\"82c58834-1890-4850-8333-3fe0da599368\" style=\"\n",
       "                    width: 100%;\n",
       "                    border: 1px solid #cfcfcf;\n",
       "                    border-radius: 4px;\n",
       "                    text-align: center;\n",
       "                    position: relative;\">\n",
       "                  <div class=\"pb-text\" style=\"\n",
       "                      position: absolute;\n",
       "                      width: 100%;\">\n",
       "                    0%\n",
       "                  </div>\n",
       "                  <div class=\"pb-fill\" style=\"\n",
       "                      background-color: #bdd2e6;\n",
       "                      width: 0%;\">\n",
       "                    <style type=\"text/css\" scoped=\"scoped\">\n",
       "                        @keyframes pb-fill-anim {\n",
       "                            0% { background-position: 0 0; }\n",
       "                            100% { background-position: 100px 0; }\n",
       "                        }\n",
       "                    </style>\n",
       "                    &nbsp;\n",
       "                  </div>\n",
       "                </div>"
      ],
      "text/plain": [
       "HtmlProgressBar cannot be displayed. Please use the TerminalProgressBar. It can be enabled with `nengo.rc['progress']['progress_bar'] = 'nengo.utils.progress.TerminalProgressBar'`."
      ]
     },
     "metadata": {},
     "output_type": "display_data"
    },
    {
     "data": {
      "application/vdom.v1+json": {
       "attributes": {
        "id": "524dfe4c-9b08-4493-88bb-2c221bdd47e5",
        "style": {
         "border": "1px solid #cfcfcf",
         "borderRadius": "4px",
         "boxSizing": "border-box",
         "position": "relative",
         "textAlign": "center",
         "width": "100%"
        }
       },
       "children": [
        {
         "attributes": {
          "class": "pb-text",
          "style": {
           "position": "absolute",
           "width": "100%"
          }
         },
         "children": [
          "Simulation finished in 0:00:13."
         ],
         "tagName": "div"
        },
        {
         "attributes": {
          "class": "pb-fill",
          "style": {
           "animation": "none",
           "backgroundColor": "#bdd2e6",
           "backgroundImage": "none",
           "transition": "width 0.1s linear",
           "width": "100%"
          }
         },
         "children": [
          {
           "attributes": {
            "scoped": "scoped",
            "type": "text/css"
           },
           "children": [
            "\n                        @keyframes pb-fill-anim {\n                            0% { background-position: 0 0; }\n                            100% { background-position: 100px 0; }\n                        }}"
           ],
           "tagName": "style"
          },
          " "
         ],
         "tagName": "div"
        }
       ],
       "tagName": "div"
      },
      "text/html": [
       "<script>\n",
       "              (function () {\n",
       "                  var root = document.getElementById('82c58834-1890-4850-8333-3fe0da599368');\n",
       "                  var text = root.getElementsByClassName('pb-text')[0];\n",
       "                  var fill = root.getElementsByClassName('pb-fill')[0];\n",
       "\n",
       "                  text.innerHTML = 'Simulation finished in 0:00:13.';\n",
       "                  \n",
       "            if (100.0 > 0.) {\n",
       "                fill.style.transition = 'width 0.1s linear';\n",
       "            } else {\n",
       "                fill.style.transition = 'none';\n",
       "            }\n",
       "\n",
       "            fill.style.width = '100.0%';\n",
       "            fill.style.animation = 'none';\n",
       "            fill.style.backgroundImage = 'none'\n",
       "        \n",
       "                  \n",
       "                fill.style.animation = 'none';\n",
       "                fill.style.backgroundImage = 'none';\n",
       "            \n",
       "              })();\n",
       "        </script>"
      ]
     },
     "metadata": {},
     "output_type": "display_data"
    }
   ],
   "source": [
    "class Delay:\n",
    "    def __init__(self, dimensions, timesteps=50):\n",
    "        self.history = np.zeros((timesteps, dimensions))\n",
    "        self.started_spiking = False\n",
    "        self.finished_spiking = False\n",
    "\n",
    "    def step(self, t, x):\n",
    "        self.history = np.roll(self.history, -1)\n",
    "        self.history[-1] = x\n",
    "        # computes inhibition\n",
    "        if self.history[0] > 0.8:\n",
    "            self.started_spiking = True\n",
    "        if self.started_spiking == True:\n",
    "            if self.history[0] < 0.25:\n",
    "                self.finished_spiking = True\n",
    "        if self.finished_spiking == True:\n",
    "            return 0\n",
    "        else:\n",
    "            return self.history[0]\n",
    "\n",
    "\n",
    "model = nengo.Network(label=\"Krichmar's Path Planning\")\n",
    "with model:\n",
    "\n",
    "    neuron_list = []\n",
    "    for i in range(num_rows):  # i goes from 0-> size-1\n",
    "        row = []\n",
    "        for j in range(num_cols):\n",
    "            row.append(nengo.Ensemble(100, dimensions=1))\n",
    "        neuron_list.append(row)\n",
    "\n",
    "    dt = 0.001  # default nengo timestep\n",
    "    delay_nodes = []\n",
    "    inp_node = nengo.Node(\n",
    "        Piecewise({0: 0, 1: 1, 1.25: 0, 2: 1})\n",
    "    )  # quick spike into start node\n",
    "\n",
    "    for i in range(num_rows):\n",
    "        rows = []\n",
    "        for j in range(num_cols):\n",
    "            time_delay = desired_map[i][\n",
    "                j\n",
    "            ]  # seconds by which you wish to delay the signal\n",
    "            delay = Delay(1, timesteps=int(time_delay / dt))\n",
    "            rows.append(nengo.Node(delay.step, size_in=1, size_out=1))\n",
    "        delay_nodes.append(rows)\n",
    "\n",
    "    nengo.Connection(inp_node, delay_nodes[0][0])\n",
    "\n",
    "    for i in range(num_rows):\n",
    "        for j in range(num_cols):\n",
    "            nengo.Connection(delay_nodes[i][j], neuron_list[i][j])\n",
    "            for neighbor in neuron_info[i][j].neighbors:\n",
    "                # print(neighbor)\n",
    "                nengo.Connection(\n",
    "                    neuron_list[i][j], delay_nodes[neighbor[0]][neighbor[1]]\n",
    "                )\n",
    "\n",
    "    delay_probe = []\n",
    "    neuron_probe = []\n",
    "    for i in range(num_rows):\n",
    "        rows = []\n",
    "        neuron_row = []\n",
    "        for j in range(num_cols):\n",
    "            rows.append(nengo.Probe(delay_nodes[i][j], synapse=0.01))\n",
    "            neuron_row.append(nengo.Probe(neuron_list[i][j], synapse=0.01))\n",
    "        delay_probe.append(rows)\n",
    "        neuron_probe.append(neuron_row)\n",
    "\n",
    "with nengo.Simulator(model) as sim:\n",
    "    sim.run(12)"
   ]
  },
  {
   "cell_type": "code",
   "execution_count": 178,
   "metadata": {},
   "outputs": [
    {
     "data": {
      "image/png": "[encoded data removed]",
      "text/plain": [
       "<Figure size 640x480 with 1 Axes>"
      ]
     },
     "metadata": {},
     "output_type": "display_data"
    }
   ],
   "source": [
    "plt.figure()\n",
    "# plt.plot(sim.trange(), sim.data[delay_probe[0][0]])\n",
    "plt.plot(sim.trange(), sim.data[neuron_probe[0][0]])\n",
    "plt.plot(sim.trange(), sim.data[neuron_probe[0][1]])\n",
    "plt.plot(sim.trange(), sim.data[neuron_probe[1][0]])\n",
    "plt.plot(sim.trange(), sim.data[neuron_probe[2][2]])\n",
    "\n",
    "\n",
    "plt.xlabel = \"time(x)\"\n",
    "plt.ylabel = \"neuron height\"  #"
   ]
  },
  {
   "cell_type": "markdown",
   "metadata": {},
   "source": [
    "### Create AER off-neuron\n",
    "_Pay attention to how Krichmar says he uses the AER to determine the path_  \n",
    "\n",
    "Hints:\n",
    "- The AER contains a location and a time of first spike.\n",
    "- Start at the end location and work backward!\n",
    "- I found that by looking at the first spike times of all possible neighboring map locations and choosing the smallest time allowed me to work from end node to start node for my optimal path."
   ]
  },
  {
   "cell_type": "code",
   "execution_count": 189,
   "metadata": {},
   "outputs": [
    {
     "ename": "AttributeError",
     "evalue": "'list' object has no attribute 'neighbors'",
     "output_type": "error",
     "traceback": [
      "\u001b[1;31m---------------------------------------------------------------------------\u001b[0m",
      "\u001b[1;31mAttributeError\u001b[0m                            Traceback (most recent call last)",
      "Cell \u001b[1;32mIn[189], line 24\u001b[0m\n\u001b[0;32m     22\u001b[0m next_loc\u001b[38;5;241m=\u001b[39m \u001b[38;5;28;01mNone\u001b[39;00m\n\u001b[0;32m     23\u001b[0m \u001b[38;5;66;03m#print(curr_loc.neighbors)\u001b[39;00m\n\u001b[1;32m---> 24\u001b[0m \u001b[38;5;28;01mfor\u001b[39;00m neighbor \u001b[38;5;129;01min\u001b[39;00m \u001b[43mcurr_loc\u001b[49m\u001b[38;5;241;43m.\u001b[39;49m\u001b[43mneighbors\u001b[49m:\n\u001b[0;32m     25\u001b[0m     \u001b[38;5;66;03m#print(neighbor)\u001b[39;00m\n\u001b[0;32m     26\u001b[0m     \u001b[38;5;28;01mif\u001b[39;00m aer_spike[neighbor[\u001b[38;5;241m0\u001b[39m]][neighbor[\u001b[38;5;241m1\u001b[39m]] \u001b[38;5;241m<\u001b[39mcurr_min:\n\u001b[0;32m     27\u001b[0m         \u001b[38;5;66;03m#print(aer_spike[neighbor[0]][neighbor[1]])\u001b[39;00m\n\u001b[0;32m     28\u001b[0m         curr_min\u001b[38;5;241m=\u001b[39m aer_spike[neighbor[\u001b[38;5;241m0\u001b[39m]][neighbor[\u001b[38;5;241m1\u001b[39m]]\n",
      "\u001b[1;31mAttributeError\u001b[0m: 'list' object has no attribute 'neighbors'"
     ]
    }
   ],
   "source": [
    "# checks first spike for all locations in map\n",
    "aer_spike = []\n",
    "for i in range(num_rows):\n",
    "    rows = []\n",
    "    for j in range(num_cols):\n",
    "        aer = sim.data[neuron_probe[i][j]] > 0.25\n",
    "        spike_loc = np.where(aer == True)\n",
    "        first_spike = spike_loc[0][0]\n",
    "        # print(first_spike)\n",
    "        rows.append(first_spike)\n",
    "    aer_spike.append(rows)\n",
    "\n",
    "# will need to change based off desired map\n",
    "final_loc = neuron_info[2][2]\n",
    "start_loc = neuron_info[0][0]\n",
    "# print(final_loc1.initial_loc)\n",
    "curr_loc = final_loc\n",
    "shortest_path = []\n",
    "shortest_path.append(final_loc.initial_loc)\n",
    "while curr_loc != start_loc:\n",
    "    curr_min = 1000000\n",
    "    next_loc = None\n",
    "    # print(curr_loc.neighbors)\n",
    "    for neighbor in curr_loc.neighbors:\n",
    "        # print(neighbor)\n",
    "        if aer_spike[neighbor[0]][neighbor[1]] < curr_min:\n",
    "            # print(aer_spike[neighbor[0]][neighbor[1]])\n",
    "            curr_min = aer_spike[neighbor[0]][neighbor[1]]\n",
    "            next_loc = neighbor\n",
    "    shortest_path.append(next_loc)\n",
    "    curr_loc = next_loc\n",
    "\n",
    "# print(start_loc1.initial_loc)\n",
    "shortest_path.append(start_loc.initial_loc)\n",
    "# shortest_path= shortest_path.reverse()"
   ]
  },
  {
   "cell_type": "markdown",
   "metadata": {
    "id": "IU76Mt_cfa7q"
   },
   "source": [
    "### Print your optimal path\n",
    "_Be sure to show your results_  \n",
    "\n",
    "Some options:\n",
    "- You can print your map locations as x- and y- coordinates (examples: start_loc = [0,0] or [2,0]) or flattened locations (examples: start_loc = 0 or 10)\n",
    "- You can create a picture of a map (like in Krichmar's paper) where you draw out your final path"
   ]
  },
  {
   "cell_type": "code",
   "execution_count": 186,
   "metadata": {},
   "outputs": [
    {
     "name": "stdout",
     "output_type": "stream",
     "text": [
      "[(2, 2), [2, 1]]\n"
     ]
    }
   ],
   "source": [
    "print(shortest_path)"
   ]
  }
 ],
 "metadata": {
  "colab": {
   "provenance": []
  },
  "kernelspec": {
   "display_name": "Python 3",
   "name": "python3"
  },
  "language_info": {
   "codemirror_mode": {
    "name": "ipython",
    "version": 3
   },
   "file_extension": ".py",
   "mimetype": "text/x-python",
   "name": "python",
   "nbconvert_exporter": "python",
   "pygments_lexer": "ipython3",
   "version": "3.10.13"
  }
 },
 "nbformat": 4,
 "nbformat_minor": 0
}
